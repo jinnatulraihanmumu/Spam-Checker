{
  "nbformat": 4,
  "nbformat_minor": 0,
  "metadata": {
    "colab": {
      "provenance": [],
      "authorship_tag": "ABX9TyN83ZnVT9ln81+Lb+BidApT",
      "include_colab_link": true
    },
    "kernelspec": {
      "name": "python3",
      "display_name": "Python 3"
    },
    "language_info": {
      "name": "python"
    }
  },
  "cells": [
    {
      "cell_type": "markdown",
      "metadata": {
        "id": "view-in-github",
        "colab_type": "text"
      },
      "source": [
        "<a href=\"https://colab.research.google.com/github/jinnatulraihanmumu/Spam-Checker/blob/main/YouTube_Spam_Comment_Checker.ipynb\" target=\"_parent\"><img src=\"https://colab.research.google.com/assets/colab-badge.svg\" alt=\"Open In Colab\"/></a>"
      ]
    },
    {
      "cell_type": "code",
      "execution_count": 2,
      "metadata": {
        "colab": {
          "base_uri": "https://localhost:8080/"
        },
        "id": "7yjTw2MczuY-",
        "outputId": "948df9aa-a907-4542-bfe1-60940ea7e616"
      },
      "outputs": [
        {
          "output_type": "stream",
          "name": "stdout",
          "text": [
            "0.8223642172523962\n",
            "Enter a comment : Eww, this is gross\n",
            "['NOT A SPAM COMMENT']\n"
          ]
        }
      ],
      "source": [
        "import pandas as pd\n",
        "import numpy as np\n",
        "from sklearn.feature_extraction.text import CountVectorizer\n",
        "from sklearn.model_selection import train_test_split\n",
        "from sklearn.naive_bayes import BernoulliNB\n",
        "\n",
        "data = pd.read_csv(\"Youtube-Data.csv\")\n",
        "# print(data.sample(5)) #This will print 5 random rows from the dataset\n",
        "\n",
        "# print(data.isnull().sum())\n",
        "\n",
        "# Since we only require content and class columns, we will update our existing datafram to the following\n",
        "data = data[['CONTENT','CLASS']]\n",
        "\n",
        "# We will map 0 to not spam and 1 to span in class column\n",
        "data[\"CLASS\"] = data['CLASS'].map({0:'NOT A SPAM COMMENT', 1: 'SPAM COMMENT'})\n",
        "# print(data.sample(5))\n",
        "\n",
        "x = np.array(data['CONTENT'])\n",
        "y = np.array(data['CLASS'])\n",
        "\n",
        "\"\"\"\n",
        "As the output of this problem will either be 0 or 1,i.e, the problem of binary classification,\n",
        "we can use the Bernoulli Naive Bayes algorithm to train the model:\n",
        "\"\"\"\n",
        "\n",
        "cv = CountVectorizer()\n",
        "x = cv.fit_transform(x)\n",
        "xtrain, xtest, ytrain, ytest = train_test_split(x,y,train_size=0.2,random_state= 42)\n",
        "\n",
        "model = BernoulliNB()\n",
        "model.fit(xtrain,ytrain)\n",
        "\n",
        "print(model.score(xtest,ytest))\n",
        "\n",
        "# Its time to check the model by giving spam and non-spam comments\n",
        "\n",
        "S = input(\"Enter a comment : \")\n",
        "d = cv.transform([S]).toarray()\n",
        "print(model.predict(d))"
      ]
    }
  ]
}